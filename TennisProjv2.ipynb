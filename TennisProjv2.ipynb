{
 "cells": [
  {
   "cell_type": "markdown",
   "id": "49e8410b-4105-4902-b353-bffce6cf5cea",
   "metadata": {},
   "source": [
    "# Predicting Tennis Match Winners and Losers\n",
    "#### AIT580 \n",
    "#### Final Class Project\n",
    "- Hunter Walden, Kevin Mitchell, Jason Myslewski\n",
    "- 13 July 2022"
   ]
  },
  {
   "cell_type": "markdown",
   "id": "ce67de41-b086-48c4-863e-5124d3952f8e",
   "metadata": {},
   "source": [
    "## Introduction"
   ]
  },
  {
   "cell_type": "code",
   "execution_count": null,
   "id": "6b7632bd-e1a7-410e-ba6e-64169b3ec9b5",
   "metadata": {},
   "outputs": [],
   "source": []
  },
  {
   "cell_type": "markdown",
   "id": "bea27734-d1d7-4cd3-a773-ed85455cd87f",
   "metadata": {},
   "source": [
    "## Purpose"
   ]
  },
  {
   "cell_type": "code",
   "execution_count": null,
   "id": "16cbdc56-24b4-40cf-bd9e-7b8c47e8c564",
   "metadata": {},
   "outputs": [],
   "source": []
  },
  {
   "cell_type": "markdown",
   "id": "b10fc5cf-df5c-42cc-9445-6f0c74dcddbc",
   "metadata": {},
   "source": [
    "## Methods"
   ]
  },
  {
   "cell_type": "code",
   "execution_count": null,
   "id": "83017c5f-114e-42fe-ab72-3a90514cbf50",
   "metadata": {},
   "outputs": [],
   "source": []
  },
  {
   "cell_type": "markdown",
   "id": "8792b046-967e-4daf-9601-a869846d8553",
   "metadata": {},
   "source": [
    "## Table of Contents:"
   ]
  },
  {
   "cell_type": "code",
   "execution_count": null,
   "id": "4ac5fcb3-ca30-4dae-ae7f-1338c6c9e8be",
   "metadata": {},
   "outputs": [],
   "source": []
  },
  {
   "cell_type": "markdown",
   "id": "312d7b82-8fcc-434a-a398-772effefa9c8",
   "metadata": {},
   "source": [
    "### Column Name Meanings:"
   ]
  },
  {
   "cell_type": "markdown",
   "id": "25d3a141-ed97-4380-aade-519a260f51b7",
   "metadata": {},
   "source": [
    "**Attribute Information:**\n",
    "\n",
    "1. Player 1 Name of Player 1\n",
    "2. Player 2 Name of Player 2\n",
    "3. Result Result of the match (0/1) - Referenced on Player 1 is Result = 1 if Player 1 wins (FNL.1>FNL.2)\n",
    "4. FSP.1 First Serve Percentage for player 1 (Real Number)\n",
    "5. FSW.1 First Serve Won by player 1 (Real Number)\n",
    "6. SSP.1 Second Serve Percentage for player 1 (Real Number)\n",
    "7. SSW.1 Second Serve Won by player 1 (Real Number)\n",
    "8. ACE.1 Aces won by player 1 (Numeric-Integer)\n",
    "9. DBF.1 Double Faults committed by player 1 (Numeric-Integer)\n",
    "10. WNR.1 Winners earned by player 1 (Numeric)\n",
    "11. UFE.1 Unforced Errors committed by player 1 (Numeric)\n",
    "12. BPC.1 Break Points Created by player 1 (Numeric)\n",
    "13. BPW.1 Break Points Won by player 1 (Numeric)\n",
    "14. NPA.1 Net Points Attempted by player 1 (Numeric)\n",
    "15. NPW.1 Net Points Won by player 1 (Numeric)\n",
    "16. TPW.1 Total Points Won by player 1 (Numeric)\n",
    "17. ST1.1 Set 1 result for Player 1 (Numeric-Integer)\n",
    "18. ST2.1 Set 2 Result for Player 1 (Numeric-Integer)\n",
    "19. ST3.1 Set 3 Result for Player 1 (Numeric-Integer)\n",
    "20. ST4.1 Set 4 Result for Player 1 (Numeric-Integer)\n",
    "21. ST5.1 Set 5 Result for Player 1 (Numeric-Integer)\n",
    "22. FNL.1 Final Number of Games Won by Player 1 (Numeric-Integer)\n",
    "23. FSP.2 First Serve Percentage for player 2 (Real Number)\n",
    "24. FSW.2 First Serve Won by player 2 (Real Number)\n",
    "25. SSP.2 Second Serve Percentage for player 2 (Real Number)\n",
    "26. SSW.2 Second Serve Won by player 2 (Real Number)\n",
    "27. ACE.2 Aces won by player 2 (Numeric-Integer)\n",
    "28. DBF.2 Double Faults committed by player 2 (Numeric-Integer)\n",
    "29. WNR.2 Winners earned by player 2 (Numeric)\n",
    "30. UFE.2 Unforced Errors committed by player 2 (Numeric)\n",
    "31. BPC.2 Break Points Created by player 2 (Numeric)\n",
    "32. BPW.2 Break Points Won by player 2 (Numeric)\n",
    "33. NPA.2 Net Points Attempted by player 2 (Numeric)\n",
    "34. NPW.2 Net Points Won by player 2 (Numeric)\n",
    "35. TPW.2 Total Points Won by player 2 (Numeric)\n",
    "36. ST1.2 Set 1 result for Player 2 (Numeric-Integer)\n",
    "37. ST2.2 Set 2 Result for Player 2 (Numeric-Integer)\n",
    "38. ST3.2 Set 3 Result for Player 2 (Numeric-Integer)\n",
    "39. ST4.2 Set 4 Result for Player 2 (Numeric-Integer)\n",
    "40. ST5.2 Set 5 Result for Player 2 (Numeric-Integer)\n",
    "41. FNL.2 Final Number of Games Won by Player 2 (Numeric-Integer)\n",
    "42. Round Round of the tournament at which game is played (Numeric-Integer)"
   ]
  },
  {
   "cell_type": "markdown",
   "id": "db37f48e-ad8c-42c0-b1aa-917d48c933b8",
   "metadata": {},
   "source": [
    "## Part 1: Data Cleaning"
   ]
  },
  {
   "cell_type": "markdown",
   "id": "c2bf4201-0eef-45dd-8150-631ea3c07738",
   "metadata": {
    "tags": []
   },
   "source": [
    "#### Data Cleaning Checklist\n",
    "1. Import data sets\n",
    "2. Rename columns\n",
    "3. Concatenate sets\n",
    "4. Check for consistency in data types. \n",
    "5. Check for duplicate rows\n",
    "6. Validate and create the final data set. "
   ]
  },
  {
   "cell_type": "code",
   "execution_count": 1,
   "id": "7a0f0aa2-8d57-43bd-beea-bbfbe1beceae",
   "metadata": {},
   "outputs": [],
   "source": [
    "# import libraries\n",
    "import re\n",
    "import matplotlib.pyplot as plt\n",
    "import numpy as np\n",
    "import pandas as pd"
   ]
  },
  {
   "cell_type": "code",
   "execution_count": 2,
   "id": "5212c216-2d53-4335-b218-447928011f04",
   "metadata": {},
   "outputs": [],
   "source": [
    "pd.set_option('display.max_columns', None)\n",
    "pd.set_option('display.max_rows', None)"
   ]
  },
  {
   "cell_type": "code",
   "execution_count": 3,
   "id": "1983d8c4-d387-45d1-8afc-fb309eaebdca",
   "metadata": {},
   "outputs": [],
   "source": [
    "# import csv files\n",
    "aus_men = pd.read_csv(\"AusOpen-men-2013.csv\")\n",
    "aus_women = pd.read_csv(\"AusOpen-women-2013.csv\")\n",
    "french_men = pd.read_csv(\"FrenchOpen-men-2013.csv\")\n",
    "french_women = pd.read_csv(\"FrenchOpen-women-2013.csv\")\n",
    "us_men = pd.read_csv(\"USOpen-men-2013.csv\")\n",
    "us_women = pd.read_csv(\"USOpen-women-2013.csv\")\n",
    "wimb_men = pd.read_csv(\"Wimbledon-men-2013.csv\")\n",
    "wimb_women = pd.read_csv(\"Wimbledon-women-2013.csv\")"
   ]
  },
  {
   "cell_type": "code",
   "execution_count": 4,
   "id": "c7cb18f6-d3c8-438b-990b-6cb02b017285",
   "metadata": {},
   "outputs": [],
   "source": [
    "# create a list of all 8 data frames\n",
    "dfs = [aus_men, aus_women, french_men, french_women, us_men, us_women, \n",
    "       wimb_men, wimb_women]\n",
    "\n",
    "# create a list of the column names as they need to appear in each df\n",
    "col_names = ['Player1', 'Player2', 'Round', 'Result', 'FNL.1', 'FNL.2', \n",
    "             'FSP.1','FSW.1', 'SSP.1', 'SSW.1', 'ACE.1', 'DBF.1', 'WNR.1', \n",
    "             'UFE.1', 'BPC.1', 'BPW.1', 'NPA.1', 'NPW.1', 'TPW.1', 'ST1.1', \n",
    "             'ST2.1', 'ST3.1', 'ST4.1', 'ST5.1', 'FSP.2', 'FSW.2', 'SSP.2', \n",
    "             'SSW.2', 'ACE.2', 'DBF.2', 'WNR.2', 'UFE.2', 'BPC.2', 'BPW.2', \n",
    "             'NPA.2', 'NPW.2', 'TPW.2', 'ST1.2', 'ST2.2', 'ST3.2', 'ST4.2', \n",
    "             'ST5.2']"
   ]
  },
  {
   "cell_type": "code",
   "execution_count": 5,
   "id": "bcb59980-705f-401c-94da-9975da9e25b0",
   "metadata": {},
   "outputs": [],
   "source": [
    "# function to check column names\n",
    "def column_checker(dfs, colNames):                       \n",
    "    '''This function will check all the column names in each data frame \n",
    "    to match the column names that are listed in the standardized list \n",
    "    of column names. \n",
    "    \n",
    "    The function will return the column name that is incorrect, and the \n",
    "    number of names that are incorrect for each data frame.\n",
    "    '''\n",
    "    num = 0\n",
    "    for data in dfs:\n",
    "        rename = []\n",
    "        for i in range(len(col_names)):\n",
    "            li = list(data.columns)\n",
    "            if li[i] != col_names[i]:\n",
    "                print(f'{li[i]} needs to be fixed')\n",
    "                rename.append(li[i])\n",
    "        print(f'{len(rename)} columns need to be renamed in dfs[{num}]')\n",
    "        print('-----')\n",
    "        num += 1\n",
    "        rename.clear()"
   ]
  },
  {
   "cell_type": "code",
   "execution_count": 6,
   "id": "ec406c71-4c36-4d4e-a84c-c48d138ff002",
   "metadata": {},
   "outputs": [
    {
     "name": "stdout",
     "output_type": "stream",
     "text": [
      "FNL1 needs to be fixed\n",
      "FNL2 needs to be fixed\n",
      "2 columns need to be renamed in dfs[0]\n",
      "-----\n",
      "FNL1 needs to be fixed\n",
      "FNL2 needs to be fixed\n",
      "2 columns need to be renamed in dfs[1]\n",
      "-----\n",
      "0 columns need to be renamed in dfs[2]\n",
      "-----\n",
      "0 columns need to be renamed in dfs[3]\n",
      "-----\n",
      "FNL1 needs to be fixed\n",
      "FNL2 needs to be fixed\n",
      "2 columns need to be renamed in dfs[4]\n",
      "-----\n",
      "Player 1 needs to be fixed\n",
      "Player 2 needs to be fixed\n",
      "ROUND needs to be fixed\n",
      "ST2.1.1 needs to be fixed\n",
      "4 columns need to be renamed in dfs[5]\n",
      "-----\n",
      "0 columns need to be renamed in dfs[6]\n",
      "-----\n",
      "ST1.1.1 needs to be fixed\n",
      "1 columns need to be renamed in dfs[7]\n",
      "-----\n"
     ]
    }
   ],
   "source": [
    "column_checker(dfs, col_names)"
   ]
  },
  {
   "cell_type": "markdown",
   "id": "bedc9160-2252-4500-8f28-ad04a0a0077b",
   "metadata": {
    "tags": []
   },
   "source": [
    "During the initial inspection of each of the 8 data frames above, we \n",
    "notices there are many columns that have inconcistent naming conention. \n",
    "Below we identified the specific columns in each data frame that required \n",
    "renaming, then printed the column names of each data frame to validae \n",
    "consistency. "
   ]
  },
  {
   "cell_type": "code",
   "execution_count": 7,
   "id": "e8ea7fea-7bde-4c8e-9b57-fa8d86b0d253",
   "metadata": {},
   "outputs": [],
   "source": [
    "# rename columns for consistency\n",
    "aus_men = aus_men.rename(columns={'FNL1': 'FNL.1', 'FNL2': 'FNL.2'})\n",
    "aus_women = aus_women.rename(columns={'FNL1': 'FNL.1', 'FNL2': 'FNL.2'})\n",
    "us_men = us_men.rename(columns={'FNL1': 'FNL.1', 'FNL2': 'FNL.2'})\n",
    "us_women = us_women.rename(columns={'ST2.1.1': 'ST1.2', 'Player 1': 'Player1', \n",
    "                                    'Player 2': 'Player2', 'ROUND':'Round'})\n",
    "wimb_women = wimb_women.rename(columns={'ST1.1.1': 'ST1.2'})"
   ]
  },
  {
   "cell_type": "code",
   "execution_count": 8,
   "id": "a5d0d16a-723b-4f07-b7bc-6792a5292f7a",
   "metadata": {},
   "outputs": [
    {
     "name": "stdout",
     "output_type": "stream",
     "text": [
      "0 columns need to be renamed in dfs[0]\n",
      "-----\n",
      "0 columns need to be renamed in dfs[1]\n",
      "-----\n",
      "0 columns need to be renamed in dfs[2]\n",
      "-----\n",
      "0 columns need to be renamed in dfs[3]\n",
      "-----\n",
      "0 columns need to be renamed in dfs[4]\n",
      "-----\n",
      "0 columns need to be renamed in dfs[5]\n",
      "-----\n",
      "0 columns need to be renamed in dfs[6]\n",
      "-----\n",
      "0 columns need to be renamed in dfs[7]\n",
      "-----\n"
     ]
    }
   ],
   "source": [
    "# create a new list to check col names using our column_checker function\n",
    "dfs1 = [aus_men, aus_women, french_men, french_women, \n",
    "        us_men, us_women, wimb_men, wimb_women]\n",
    "column_checker(dfs1, col_names)"
   ]
  },
  {
   "cell_type": "markdown",
   "id": "7482a7bd-45b7-4ed3-a345-8975dc9b2347",
   "metadata": {},
   "source": [
    "All column names are fixed and the data frames are ready to be concatentated. \n",
    "We will concatentate all 8 data frames regardless of tournament name and \n",
    "agnostic to gender. "
   ]
  },
  {
   "cell_type": "code",
   "execution_count": 9,
   "id": "4fc9be7a-153f-4822-b942-0e485502f579",
   "metadata": {},
   "outputs": [
    {
     "name": "stdout",
     "output_type": "stream",
     "text": [
      "(126, 42)\n",
      "(127, 42)\n",
      "(125, 42)\n",
      "(127, 42)\n",
      "(126, 42)\n",
      "(76, 42)\n",
      "(114, 42)\n",
      "(122, 42)\n"
     ]
    }
   ],
   "source": [
    "# look at the shape of each individual data frame. \n",
    "for d in dfs:\n",
    "    print(d.shape)"
   ]
  },
  {
   "cell_type": "code",
   "execution_count": 10,
   "id": "06a8bb5b-afe5-4b6f-bc42-175dbc0d8253",
   "metadata": {},
   "outputs": [],
   "source": [
    "# concatentate all 8 data frames into one. \n",
    "df = pd.concat(dfs1)"
   ]
  },
  {
   "cell_type": "markdown",
   "id": "a7a9374c-12a2-4c93-89d7-b7516d8317c0",
   "metadata": {},
   "source": [
    "Now that all 8 data frames are concatenated into one data frame, we need to do some more manipulation. Each row of the data frame contains stats for each match and includes information on both player 1 and player 2. We need to have a data frame where every row is one discrete player and contains an appropriate win/loss label i.e. (1, 0). Below we will divide the columns and create two data frames based on player 1 and player two. Then we will reindex the columns and rename the columns so that both data frames are identical. We will also add a win/loss label to player two data frame. We will concatenate both player1 and player 2 data frames into one final data frame that will be ready for exploration."
   ]
  },
  {
   "cell_type": "code",
   "execution_count": 11,
   "id": "1c4fcf9d-6751-4044-acea-214b261b93d9",
   "metadata": {},
   "outputs": [
    {
     "name": "stdout",
     "output_type": "stream",
     "text": [
      "player_1 results [0, 1, 0, 1, 0, 0, 0, 1, 0, 1]\n",
      "player_2 results [1, 0, 1, 0, 1, 1, 1, 0, 1, 0]\n"
     ]
    },
    {
     "name": "stderr",
     "output_type": "stream",
     "text": [
      "C:\\Users\\htwal\\AppData\\Local\\Temp\\ipykernel_12124\\4019134439.py:25: SettingWithCopyWarning: \n",
      "A value is trying to be set on a copy of a slice from a DataFrame.\n",
      "Try using .loc[row_indexer,col_indexer] = value instead\n",
      "\n",
      "See the caveats in the documentation: https://pandas.pydata.org/pandas-docs/stable/user_guide/indexing.html#returning-a-view-versus-a-copy\n",
      "  player_2.loc[:, 'Result'] = win_loss_p2\n"
     ]
    }
   ],
   "source": [
    "# data frame manipulate to generate a dataframe that has one discrete\n",
    "# player per row. \n",
    "player_1 = df[['Result', 'FNL.1', 'FSP.1','FSW.1', 'SSP.1', \n",
    "              'SSW.1', 'ACE.1', 'DBF.1', 'WNR.1', 'UFE.1', 'BPC.1', \n",
    "              'BPW.1', 'NPA.1', 'NPW.1', 'TPW.1', 'ST1.1', 'ST2.1', \n",
    "              'ST3.1', 'ST4.1', 'ST5.1']]\n",
    "player_2 = df[['FNL.2', 'FSP.2', 'FSW.2', 'SSP.2', 'SSW.2', 'ACE.2', \n",
    "               'DBF.2', 'WNR.2', 'UFE.2', 'BPC.2', 'BPW.2', 'NPA.2', \n",
    "               'NPW.2', 'TPW.2', 'ST1.2', 'ST2.2', 'ST3.2', 'ST4.2', \n",
    "               'ST5.2']]\n",
    "\n",
    "# assign win/loss (1, 0) values and assign to player 2 data frame\n",
    "win_loss_p1 = list(player_1['Result'])\n",
    "win_loss_p2 = []\n",
    "for result in win_loss_p1:\n",
    "    if result == 0:\n",
    "        win_loss_p2.append(1)\n",
    "    elif result == 1:\n",
    "        win_loss_p2.append(0)\n",
    "\n",
    "# validate the results column gererated correctly\n",
    "print(f'player_1 results {win_loss_p1[:10]}')\n",
    "print(f'player_2 results {win_loss_p2[:10]}')\n",
    "\n",
    "player_2.loc[:, 'Result'] = win_loss_p2\n",
    "col_order = ['Result', 'FNL.2', 'FSP.2', 'FSW.2', 'SSP.2', 'SSW.2', \n",
    "             'ACE.2', 'DBF.2', 'WNR.2', 'UFE.2', 'BPC.2', 'BPW.2', \n",
    "             'NPA.2', 'NPW.2', 'TPW.2', 'ST1.2', 'ST2.2', 'ST3.2', \n",
    "             'ST4.2', 'ST5.2']\n",
    "player_2 = player_2.reindex(columns=col_order)"
   ]
  },
  {
   "cell_type": "code",
   "execution_count": 12,
   "id": "8c2f6c15-4016-4a24-8173-f255104dd519",
   "metadata": {},
   "outputs": [],
   "source": [
    "# rename columns in both data frames \n",
    "def rename_cols(df):\n",
    "    '''This function takes the column names of a data frame and returns\n",
    "    the same data frame with updated column names.\n",
    "    '''    \n",
    "    old_cols = list(df.columns)\n",
    "    new_names = []\n",
    "    for name in old_cols:\n",
    "        new = re.sub('\\.\\d', '', name)\n",
    "        new_names.append(new)\n",
    "    d = {key:value for key, value in zip(old_cols, new_names)}\n",
    "    df2 = df.rename(columns=d)\n",
    "    return df2"
   ]
  },
  {
   "cell_type": "code",
   "execution_count": 13,
   "id": "3922d5e8-ed72-48b7-b391-18b566b0a691",
   "metadata": {},
   "outputs": [],
   "source": [
    "# standardize col names between player_1 and player_2 data frames:\n",
    "player_1 = rename_cols(player_1)\n",
    "player_2 = rename_cols(player_2)"
   ]
  },
  {
   "cell_type": "code",
   "execution_count": 14,
   "id": "e3ffac13-f976-4c74-9b6e-95bf91ea8853",
   "metadata": {},
   "outputs": [
    {
     "name": "stdout",
     "output_type": "stream",
     "text": [
      "<class 'pandas.core.frame.DataFrame'>\n",
      "Int64Index: 1886 entries, 0 to 121\n",
      "Data columns (total 20 columns):\n",
      " #   Column  Non-Null Count  Dtype  \n",
      "---  ------  --------------  -----  \n",
      " 0   Result  1886 non-null   int64  \n",
      " 1   FNL     1884 non-null   float64\n",
      " 2   FSP     1886 non-null   int64  \n",
      " 3   FSW     1886 non-null   int64  \n",
      " 4   SSP     1886 non-null   int64  \n",
      " 5   SSW     1886 non-null   int64  \n",
      " 6   ACE     1842 non-null   float64\n",
      " 7   DBF     1870 non-null   float64\n",
      " 8   WNR     1634 non-null   float64\n",
      " 9   UFE     1634 non-null   float64\n",
      " 10  BPC     1884 non-null   float64\n",
      " 11  BPW     1884 non-null   float64\n",
      " 12  NPA     1718 non-null   float64\n",
      " 13  NPW     1720 non-null   float64\n",
      " 14  TPW     1262 non-null   float64\n",
      " 15  ST1     1884 non-null   float64\n",
      " 16  ST2     1878 non-null   float64\n",
      " 17  ST3     1244 non-null   float64\n",
      " 18  ST4     442 non-null    float64\n",
      " 19  ST5     172 non-null    float64\n",
      "dtypes: float64(15), int64(5)\n",
      "memory usage: 309.4 KB\n"
     ]
    }
   ],
   "source": [
    "# concatenate player_1 and player_2 data frames:\n",
    "concats = [player_1, player_2]\n",
    "df2 = pd.concat(concats)\n",
    "df2.info()      # should be the 2x rows and .5x cols as df.info()"
   ]
  },
  {
   "cell_type": "code",
   "execution_count": 15,
   "id": "b8537831-0f2a-49ed-9f9d-edb33c0e2c27",
   "metadata": {},
   "outputs": [
    {
     "data": {
      "text/plain": [
       "False    1886\n",
       "dtype: int64"
      ]
     },
     "execution_count": 15,
     "metadata": {},
     "output_type": "execute_result"
    }
   ],
   "source": [
    "# check for duplicate rows:\n",
    "df2.duplicated().value_counts()"
   ]
  },
  {
   "cell_type": "code",
   "execution_count": 16,
   "id": "7547f399-2247-4e6b-ab48-0a592674e3d2",
   "metadata": {},
   "outputs": [],
   "source": [
    "# save the processed data set that we will use for exploratory analysis\n",
    "df.to_csv('MasterDFv2.csv')"
   ]
  },
  {
   "cell_type": "markdown",
   "id": "7e27b2f5-414a-4f89-9734-9aa9c1a8188b",
   "metadata": {},
   "source": [
    "#### Conclusion to Part 1: Data Cleaning"
   ]
  },
  {
   "cell_type": "markdown",
   "id": "517f506e-aec2-4756-9d9d-623f1d00879c",
   "metadata": {},
   "source": [
    "Overall we imported out libraries, and read in 8 csv files containing statistics from 8 major men's and women's tennis tournaments to data frames. We renamed the necessary columns to make each data set uniform, then concatentated all 8 data frames. In total we have 1 data frame with 943 rows and 42 columns. We checked the data frame for duplicate data and found that there are no duplicates. \n",
    "\n",
    "In the following section, Part 2: Exploratory Analysis, we will check for outliers, look at correlations, and determine how to handle missing data. "
   ]
  },
  {
   "cell_type": "markdown",
   "id": "11b302c2-554f-455a-a13a-d1752dd88bd7",
   "metadata": {
    "tags": []
   },
   "source": [
    "## Part 2: Exploratory Analysis"
   ]
  },
  {
   "cell_type": "code",
   "execution_count": 17,
   "id": "dd78033a-9071-4420-a8a3-bd158daf422c",
   "metadata": {},
   "outputs": [],
   "source": [
    "# ------------------------------------------------------------------------"
   ]
  },
  {
   "cell_type": "markdown",
   "id": "48c955a6-0e38-4cb9-a3db-ebeb0ca001b4",
   "metadata": {},
   "source": [
    "#### Check for outliers"
   ]
  },
  {
   "cell_type": "code",
   "execution_count": 18,
   "id": "0a5727c3-ee9e-48cd-b189-828eea54793d",
   "metadata": {},
   "outputs": [
    {
     "data": {
      "text/html": [
       "<div>\n",
       "<style scoped>\n",
       "    .dataframe tbody tr th:only-of-type {\n",
       "        vertical-align: middle;\n",
       "    }\n",
       "\n",
       "    .dataframe tbody tr th {\n",
       "        vertical-align: top;\n",
       "    }\n",
       "\n",
       "    .dataframe thead th {\n",
       "        text-align: right;\n",
       "    }\n",
       "</style>\n",
       "<table border=\"1\" class=\"dataframe\">\n",
       "  <thead>\n",
       "    <tr style=\"text-align: right;\">\n",
       "      <th></th>\n",
       "      <th>Result</th>\n",
       "      <th>FNL</th>\n",
       "      <th>FSP</th>\n",
       "      <th>FSW</th>\n",
       "      <th>SSP</th>\n",
       "      <th>SSW</th>\n",
       "      <th>ACE</th>\n",
       "      <th>DBF</th>\n",
       "      <th>WNR</th>\n",
       "      <th>UFE</th>\n",
       "      <th>BPC</th>\n",
       "      <th>BPW</th>\n",
       "      <th>NPA</th>\n",
       "      <th>NPW</th>\n",
       "      <th>TPW</th>\n",
       "      <th>ST1</th>\n",
       "      <th>ST2</th>\n",
       "      <th>ST3</th>\n",
       "      <th>ST4</th>\n",
       "      <th>ST5</th>\n",
       "    </tr>\n",
       "  </thead>\n",
       "  <tbody>\n",
       "    <tr>\n",
       "      <th>count</th>\n",
       "      <td>1886.0</td>\n",
       "      <td>1884.0</td>\n",
       "      <td>1886.0</td>\n",
       "      <td>1886.0</td>\n",
       "      <td>1886.0</td>\n",
       "      <td>1886.0</td>\n",
       "      <td>1842.0</td>\n",
       "      <td>1870.0</td>\n",
       "      <td>1634.0</td>\n",
       "      <td>1634.0</td>\n",
       "      <td>1884.0</td>\n",
       "      <td>1884.0</td>\n",
       "      <td>1718.0</td>\n",
       "      <td>1720.0</td>\n",
       "      <td>1262.0</td>\n",
       "      <td>1884.0</td>\n",
       "      <td>1878.0</td>\n",
       "      <td>1244.0</td>\n",
       "      <td>442.0</td>\n",
       "      <td>172.0</td>\n",
       "    </tr>\n",
       "    <tr>\n",
       "      <th>mean</th>\n",
       "      <td>0.5</td>\n",
       "      <td>1.5</td>\n",
       "      <td>62.1</td>\n",
       "      <td>38.7</td>\n",
       "      <td>37.9</td>\n",
       "      <td>16.8</td>\n",
       "      <td>6.1</td>\n",
       "      <td>3.7</td>\n",
       "      <td>27.7</td>\n",
       "      <td>27.5</td>\n",
       "      <td>5.3</td>\n",
       "      <td>7.1</td>\n",
       "      <td>15.7</td>\n",
       "      <td>17.4</td>\n",
       "      <td>94.4</td>\n",
       "      <td>4.8</td>\n",
       "      <td>4.7</td>\n",
       "      <td>4.8</td>\n",
       "      <td>4.7</td>\n",
       "      <td>4.9</td>\n",
       "    </tr>\n",
       "    <tr>\n",
       "      <th>std</th>\n",
       "      <td>0.5</td>\n",
       "      <td>1.2</td>\n",
       "      <td>8.1</td>\n",
       "      <td>17.5</td>\n",
       "      <td>8.2</td>\n",
       "      <td>8.7</td>\n",
       "      <td>6.0</td>\n",
       "      <td>2.7</td>\n",
       "      <td>16.0</td>\n",
       "      <td>15.0</td>\n",
       "      <td>3.9</td>\n",
       "      <td>5.1</td>\n",
       "      <td>12.2</td>\n",
       "      <td>12.3</td>\n",
       "      <td>36.8</td>\n",
       "      <td>1.9</td>\n",
       "      <td>1.9</td>\n",
       "      <td>1.9</td>\n",
       "      <td>1.9</td>\n",
       "      <td>2.0</td>\n",
       "    </tr>\n",
       "    <tr>\n",
       "      <th>min</th>\n",
       "      <td>0.0</td>\n",
       "      <td>0.0</td>\n",
       "      <td>0.0</td>\n",
       "      <td>0.0</td>\n",
       "      <td>7.0</td>\n",
       "      <td>1.0</td>\n",
       "      <td>0.0</td>\n",
       "      <td>0.0</td>\n",
       "      <td>0.0</td>\n",
       "      <td>0.0</td>\n",
       "      <td>0.0</td>\n",
       "      <td>0.0</td>\n",
       "      <td>0.0</td>\n",
       "      <td>0.0</td>\n",
       "      <td>1.0</td>\n",
       "      <td>0.0</td>\n",
       "      <td>0.0</td>\n",
       "      <td>0.0</td>\n",
       "      <td>0.0</td>\n",
       "      <td>0.0</td>\n",
       "    </tr>\n",
       "    <tr>\n",
       "      <th>25%</th>\n",
       "      <td>0.0</td>\n",
       "      <td>0.0</td>\n",
       "      <td>57.0</td>\n",
       "      <td>26.0</td>\n",
       "      <td>33.0</td>\n",
       "      <td>10.0</td>\n",
       "      <td>2.0</td>\n",
       "      <td>2.0</td>\n",
       "      <td>16.0</td>\n",
       "      <td>17.0</td>\n",
       "      <td>2.0</td>\n",
       "      <td>3.0</td>\n",
       "      <td>7.0</td>\n",
       "      <td>8.0</td>\n",
       "      <td>66.0</td>\n",
       "      <td>3.0</td>\n",
       "      <td>3.0</td>\n",
       "      <td>3.0</td>\n",
       "      <td>3.0</td>\n",
       "      <td>4.0</td>\n",
       "    </tr>\n",
       "    <tr>\n",
       "      <th>50%</th>\n",
       "      <td>0.5</td>\n",
       "      <td>2.0</td>\n",
       "      <td>62.0</td>\n",
       "      <td>36.0</td>\n",
       "      <td>38.0</td>\n",
       "      <td>15.0</td>\n",
       "      <td>4.0</td>\n",
       "      <td>3.0</td>\n",
       "      <td>25.0</td>\n",
       "      <td>26.0</td>\n",
       "      <td>5.0</td>\n",
       "      <td>6.0</td>\n",
       "      <td>13.0</td>\n",
       "      <td>15.0</td>\n",
       "      <td>92.0</td>\n",
       "      <td>6.0</td>\n",
       "      <td>6.0</td>\n",
       "      <td>6.0</td>\n",
       "      <td>6.0</td>\n",
       "      <td>6.0</td>\n",
       "    </tr>\n",
       "    <tr>\n",
       "      <th>75%</th>\n",
       "      <td>1.0</td>\n",
       "      <td>2.0</td>\n",
       "      <td>67.0</td>\n",
       "      <td>49.0</td>\n",
       "      <td>43.0</td>\n",
       "      <td>22.0</td>\n",
       "      <td>9.0</td>\n",
       "      <td>5.0</td>\n",
       "      <td>36.0</td>\n",
       "      <td>36.0</td>\n",
       "      <td>7.0</td>\n",
       "      <td>10.0</td>\n",
       "      <td>21.0</td>\n",
       "      <td>24.0</td>\n",
       "      <td>117.0</td>\n",
       "      <td>6.0</td>\n",
       "      <td>6.0</td>\n",
       "      <td>6.0</td>\n",
       "      <td>6.0</td>\n",
       "      <td>6.0</td>\n",
       "    </tr>\n",
       "    <tr>\n",
       "      <th>max</th>\n",
       "      <td>1.0</td>\n",
       "      <td>3.0</td>\n",
       "      <td>93.0</td>\n",
       "      <td>132.0</td>\n",
       "      <td>100.0</td>\n",
       "      <td>57.0</td>\n",
       "      <td>41.0</td>\n",
       "      <td>18.0</td>\n",
       "      <td>111.0</td>\n",
       "      <td>96.0</td>\n",
       "      <td>25.0</td>\n",
       "      <td>28.0</td>\n",
       "      <td>96.0</td>\n",
       "      <td>81.0</td>\n",
       "      <td>231.0</td>\n",
       "      <td>7.0</td>\n",
       "      <td>7.0</td>\n",
       "      <td>9.0</td>\n",
       "      <td>7.0</td>\n",
       "      <td>9.0</td>\n",
       "    </tr>\n",
       "  </tbody>\n",
       "</table>\n",
       "</div>"
      ],
      "text/plain": [
       "       Result     FNL     FSP     FSW     SSP     SSW     ACE     DBF     WNR  \\\n",
       "count  1886.0  1884.0  1886.0  1886.0  1886.0  1886.0  1842.0  1870.0  1634.0   \n",
       "mean      0.5     1.5    62.1    38.7    37.9    16.8     6.1     3.7    27.7   \n",
       "std       0.5     1.2     8.1    17.5     8.2     8.7     6.0     2.7    16.0   \n",
       "min       0.0     0.0     0.0     0.0     7.0     1.0     0.0     0.0     0.0   \n",
       "25%       0.0     0.0    57.0    26.0    33.0    10.0     2.0     2.0    16.0   \n",
       "50%       0.5     2.0    62.0    36.0    38.0    15.0     4.0     3.0    25.0   \n",
       "75%       1.0     2.0    67.0    49.0    43.0    22.0     9.0     5.0    36.0   \n",
       "max       1.0     3.0    93.0   132.0   100.0    57.0    41.0    18.0   111.0   \n",
       "\n",
       "          UFE     BPC     BPW     NPA     NPW     TPW     ST1     ST2     ST3  \\\n",
       "count  1634.0  1884.0  1884.0  1718.0  1720.0  1262.0  1884.0  1878.0  1244.0   \n",
       "mean     27.5     5.3     7.1    15.7    17.4    94.4     4.8     4.7     4.8   \n",
       "std      15.0     3.9     5.1    12.2    12.3    36.8     1.9     1.9     1.9   \n",
       "min       0.0     0.0     0.0     0.0     0.0     1.0     0.0     0.0     0.0   \n",
       "25%      17.0     2.0     3.0     7.0     8.0    66.0     3.0     3.0     3.0   \n",
       "50%      26.0     5.0     6.0    13.0    15.0    92.0     6.0     6.0     6.0   \n",
       "75%      36.0     7.0    10.0    21.0    24.0   117.0     6.0     6.0     6.0   \n",
       "max      96.0    25.0    28.0    96.0    81.0   231.0     7.0     7.0     9.0   \n",
       "\n",
       "         ST4    ST5  \n",
       "count  442.0  172.0  \n",
       "mean     4.7    4.9  \n",
       "std      1.9    2.0  \n",
       "min      0.0    0.0  \n",
       "25%      3.0    4.0  \n",
       "50%      6.0    6.0  \n",
       "75%      6.0    6.0  \n",
       "max      7.0    9.0  "
      ]
     },
     "execution_count": 18,
     "metadata": {},
     "output_type": "execute_result"
    }
   ],
   "source": [
    "# look at the data frame as a whole (excluding first 4 columns, irrlelvant)\n",
    "df2.describe().round(1)"
   ]
  },
  {
   "cell_type": "code",
   "execution_count": 19,
   "id": "ec739492-6cb3-4a59-8581-bdbf1838b00a",
   "metadata": {},
   "outputs": [
    {
     "data": {
      "text/plain": [
       "<AxesSubplot:>"
      ]
     },
     "execution_count": 19,
     "metadata": {},
     "output_type": "execute_result"
    },
    {
     "data": {
      "image/png": "[encoded data removed]",
      "text/plain": [
       "<Figure size 1440x1152 with 1 Axes>"
      ]
     },
     "metadata": {
      "needs_background": "light"
     },
     "output_type": "display_data"
    }
   ],
   "source": [
    "# generate boxplots to llok for outliers\n",
    "df2.boxplot(column=list(df2.columns), figsize=(20, 16), rot=45)"
   ]
  },
  {
   "cell_type": "code",
   "execution_count": 20,
   "id": "c9cc6c77-1959-461e-8ffd-71f8e4869f0e",
   "metadata": {},
   "outputs": [
    {
     "data": {
      "text/plain": [
       "FSP.1    38.0\n",
       "Name: min, dtype: float64"
      ]
     },
     "execution_count": 20,
     "metadata": {},
     "output_type": "execute_result"
    }
   ],
   "source": [
    "d = pd.DataFrame(df['FSP.1'].describe())\n",
    "d.loc['min', :]"
   ]
  },
  {
   "cell_type": "code",
   "execution_count": 21,
   "id": "65e0362f-b4d8-4264-ae12-4bbdeb426af0",
   "metadata": {},
   "outputs": [],
   "source": [
    "def outliers(df):\n",
    "    '''This is a function that will determine the outliers of a \n",
    "    column and will remove the outliers and return a cleaned data\n",
    "    frame\n",
    "    '''\n",
    "    "
   ]
  },
  {
   "cell_type": "markdown",
   "id": "008d3484-f53e-4e54-a888-ba33be0b78a0",
   "metadata": {},
   "source": [
    "## Part 3: Predictive Analysis"
   ]
  },
  {
   "cell_type": "code",
   "execution_count": null,
   "id": "3e496b6e-6c6a-4eba-b564-3268148576f1",
   "metadata": {},
   "outputs": [],
   "source": []
  },
  {
   "cell_type": "markdown",
   "id": "012851ad-4004-43f1-871f-b86d67b5a1b6",
   "metadata": {},
   "source": [
    "## Part 4: Conclusion"
   ]
  },
  {
   "cell_type": "code",
   "execution_count": null,
   "id": "75818c23-1219-4463-b5a1-d1f98882d7bf",
   "metadata": {},
   "outputs": [],
   "source": []
  },
  {
   "cell_type": "markdown",
   "id": "3c5f3287-d95d-4e3d-9c63-c3d8ef4fcbe9",
   "metadata": {},
   "source": [
    "## Part 5: References"
   ]
  },
  {
   "cell_type": "code",
   "execution_count": null,
   "id": "4203beed-67b2-44f2-95ed-52c910e230bd",
   "metadata": {},
   "outputs": [],
   "source": []
  }
 ],
 "metadata": {
  "kernelspec": {
   "display_name": "Python 3 (ipykernel)",
   "language": "python",
   "name": "python3"
  },
  "language_info": {
   "codemirror_mode": {
    "name": "ipython",
    "version": 3
   },
   "file_extension": ".py",
   "mimetype": "text/x-python",
   "name": "python",
   "nbconvert_exporter": "python",
   "pygments_lexer": "ipython3",
   "version": "3.9.12"
  }
 },
 "nbformat": 4,
 "nbformat_minor": 5
}
